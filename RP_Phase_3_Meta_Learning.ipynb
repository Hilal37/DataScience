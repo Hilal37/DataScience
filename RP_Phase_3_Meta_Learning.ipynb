{
 "cells": [
  {
   "cell_type": "markdown",
   "metadata": {
    "id": "r4gWVuZOLMl0"
   },
   "source": [
    "**Meta Learning**: in this notebook, we tested meta learning on our dataset. We will interpret the results at the end, but in short we did not actually obtain better results, or noticeable improvement at least."
   ]
  },
  {
   "cell_type": "code",
   "execution_count": null,
   "metadata": {
    "colab": {
     "base_uri": "https://localhost:8080/"
    },
    "id": "4OPjbzcUoUED",
    "outputId": "bef901f6-b2a8-40bc-e3c5-24189aeda00c"
   },
   "outputs": [
    {
     "name": "stdout",
     "output_type": "stream",
     "text": [
      "Requirement already satisfied: learn2learn in /usr/local/lib/python3.6/dist-packages (0.1.4)\n",
      "Requirement already satisfied: torch>=1.1.0 in /usr/local/lib/python3.6/dist-packages (from learn2learn) (1.7.0+cu101)\n",
      "Requirement already satisfied: torchvision>=0.3.0 in /usr/local/lib/python3.6/dist-packages (from learn2learn) (0.8.1+cu101)\n",
      "Requirement already satisfied: gym>=0.14.0 in /usr/local/lib/python3.6/dist-packages (from learn2learn) (0.17.3)\n",
      "Requirement already satisfied: pandas in /usr/local/lib/python3.6/dist-packages (from learn2learn) (1.1.4)\n",
      "Requirement already satisfied: gsutil in /usr/local/lib/python3.6/dist-packages (from learn2learn) (4.55)\n",
      "Requirement already satisfied: tqdm in /usr/local/lib/python3.6/dist-packages (from learn2learn) (4.41.1)\n",
      "Requirement already satisfied: requests in /usr/local/lib/python3.6/dist-packages (from learn2learn) (2.23.0)\n",
      "Requirement already satisfied: numpy>=1.15.4 in /usr/local/lib/python3.6/dist-packages (from learn2learn) (1.18.5)\n",
      "Requirement already satisfied: typing-extensions in /usr/local/lib/python3.6/dist-packages (from torch>=1.1.0->learn2learn) (3.7.4.3)\n",
      "Requirement already satisfied: future in /usr/local/lib/python3.6/dist-packages (from torch>=1.1.0->learn2learn) (0.16.0)\n",
      "Requirement already satisfied: dataclasses in /usr/local/lib/python3.6/dist-packages (from torch>=1.1.0->learn2learn) (0.8)\n",
      "Requirement already satisfied: pillow>=4.1.1 in /usr/local/lib/python3.6/dist-packages (from torchvision>=0.3.0->learn2learn) (7.0.0)\n",
      "Requirement already satisfied: scipy in /usr/local/lib/python3.6/dist-packages (from gym>=0.14.0->learn2learn) (1.4.1)\n",
      "Requirement already satisfied: cloudpickle<1.7.0,>=1.2.0 in /usr/local/lib/python3.6/dist-packages (from gym>=0.14.0->learn2learn) (1.3.0)\n",
      "Requirement already satisfied: pyglet<=1.5.0,>=1.4.0 in /usr/local/lib/python3.6/dist-packages (from gym>=0.14.0->learn2learn) (1.5.0)\n",
      "Requirement already satisfied: pytz>=2017.2 in /usr/local/lib/python3.6/dist-packages (from pandas->learn2learn) (2018.9)\n",
      "Requirement already satisfied: python-dateutil>=2.7.3 in /usr/local/lib/python3.6/dist-packages (from pandas->learn2learn) (2.8.1)\n",
      "Requirement already satisfied: google-reauth>=0.1.0 in /usr/local/lib/python3.6/dist-packages (from gsutil->learn2learn) (0.1.0)\n",
      "Requirement already satisfied: fasteners>=0.14.1 in /usr/local/lib/python3.6/dist-packages (from gsutil->learn2learn) (0.15)\n",
      "Requirement already satisfied: httplib2>=0.18 in /usr/local/lib/python3.6/dist-packages (from gsutil->learn2learn) (0.18.1)\n",
      "Requirement already satisfied: argcomplete>=1.9.4 in /usr/local/lib/python3.6/dist-packages (from gsutil->learn2learn) (1.12.2)\n",
      "Requirement already satisfied: gcs-oauth2-boto-plugin>=2.7 in /usr/local/lib/python3.6/dist-packages (from gsutil->learn2learn) (2.7)\n",
      "Requirement already satisfied: google-apitools>=0.5.30 in /usr/local/lib/python3.6/dist-packages (from gsutil->learn2learn) (0.5.31)\n",
      "Requirement already satisfied: crcmod>=1.7 in /usr/local/lib/python3.6/dist-packages (from gsutil->learn2learn) (1.7)\n",
      "Requirement already satisfied: mock==2.0.0 in /usr/local/lib/python3.6/dist-packages (from gsutil->learn2learn) (2.0.0)\n",
      "Requirement already satisfied: pyOpenSSL>=0.13 in /usr/local/lib/python3.6/dist-packages (from gsutil->learn2learn) (19.1.0)\n",
      "Requirement already satisfied: six>=1.12.0 in /usr/local/lib/python3.6/dist-packages (from gsutil->learn2learn) (1.15.0)\n",
      "Requirement already satisfied: retry-decorator>=1.0.0 in /usr/local/lib/python3.6/dist-packages (from gsutil->learn2learn) (1.1.1)\n",
      "Requirement already satisfied: monotonic>=1.4 in /usr/local/lib/python3.6/dist-packages (from gsutil->learn2learn) (1.5)\n",
      "Requirement already satisfied: idna<3,>=2.5 in /usr/local/lib/python3.6/dist-packages (from requests->learn2learn) (2.10)\n",
      "Requirement already satisfied: certifi>=2017.4.17 in /usr/local/lib/python3.6/dist-packages (from requests->learn2learn) (2020.11.8)\n",
      "Requirement already satisfied: urllib3!=1.25.0,!=1.25.1,<1.26,>=1.21.1 in /usr/local/lib/python3.6/dist-packages (from requests->learn2learn) (1.24.3)\n",
      "Requirement already satisfied: chardet<4,>=3.0.2 in /usr/local/lib/python3.6/dist-packages (from requests->learn2learn) (3.0.4)\n",
      "Requirement already satisfied: pyu2f in /usr/local/lib/python3.6/dist-packages (from google-reauth>=0.1.0->gsutil->learn2learn) (0.1.5)\n",
      "Requirement already satisfied: importlib-metadata<4,>=0.23; python_version == \"3.6\" in /usr/local/lib/python3.6/dist-packages (from argcomplete>=1.9.4->gsutil->learn2learn) (2.0.0)\n",
      "Requirement already satisfied: oauth2client>=2.2.0 in /usr/local/lib/python3.6/dist-packages (from gcs-oauth2-boto-plugin>=2.7->gsutil->learn2learn) (4.1.3)\n",
      "Requirement already satisfied: boto>=2.29.1 in /usr/local/lib/python3.6/dist-packages (from gcs-oauth2-boto-plugin>=2.7->gsutil->learn2learn) (2.49.0)\n",
      "Requirement already satisfied: pbr>=0.11 in /usr/local/lib/python3.6/dist-packages (from mock==2.0.0->gsutil->learn2learn) (5.5.1)\n",
      "Requirement already satisfied: cryptography>=2.8 in /usr/local/lib/python3.6/dist-packages (from pyOpenSSL>=0.13->gsutil->learn2learn) (3.2.1)\n",
      "Requirement already satisfied: zipp>=0.5 in /usr/local/lib/python3.6/dist-packages (from importlib-metadata<4,>=0.23; python_version == \"3.6\"->argcomplete>=1.9.4->gsutil->learn2learn) (3.4.0)\n",
      "Requirement already satisfied: pyasn1>=0.1.7 in /usr/local/lib/python3.6/dist-packages (from oauth2client>=2.2.0->gcs-oauth2-boto-plugin>=2.7->gsutil->learn2learn) (0.4.8)\n",
      "Requirement already satisfied: pyasn1-modules>=0.0.5 in /usr/local/lib/python3.6/dist-packages (from oauth2client>=2.2.0->gcs-oauth2-boto-plugin>=2.7->gsutil->learn2learn) (0.2.8)\n",
      "Requirement already satisfied: rsa>=3.1.4 in /usr/local/lib/python3.6/dist-packages (from oauth2client>=2.2.0->gcs-oauth2-boto-plugin>=2.7->gsutil->learn2learn) (4.6)\n",
      "Requirement already satisfied: cffi!=1.11.3,>=1.8 in /usr/local/lib/python3.6/dist-packages (from cryptography>=2.8->pyOpenSSL>=0.13->gsutil->learn2learn) (1.14.3)\n",
      "Requirement already satisfied: pycparser in /usr/local/lib/python3.6/dist-packages (from cffi!=1.11.3,>=1.8->cryptography>=2.8->pyOpenSSL>=0.13->gsutil->learn2learn) (2.20)\n"
     ]
    }
   ],
   "source": [
    "import torch.nn as nn\n",
    "import torch.nn.functional as F\n",
    "import numpy as np\n",
    "import pandas as pd\n",
    "import random as rd\n",
    "import pickle \n",
    "from sklearn.feature_selection import SelectKBest, chi2 ,f_classif\n",
    "!pip install learn2learn\n",
    "import learn2learn as l2l\n",
    "from sklearn.multiclass import OneVsRestClassifier\n",
    "from sklearn.svm import LinearSVC, SVC\n",
    "from sklearn.model_selection import train_test_split, learning_curve, ShuffleSplit, GridSearchCV\n",
    "from sklearn.metrics import accuracy_score \n",
    "from torch import nn, optim\n",
    "from sklearn.metrics import f1_score, log_loss, roc_auc_score\n",
    "import matplotlib.pyplot as plt\n",
    "import torch\n",
    "from torch.autograd import Variable as V\n",
    "import random"
   ]
  },
  {
   "cell_type": "code",
   "execution_count": null,
   "metadata": {
    "colab": {
     "base_uri": "https://localhost:8080/"
    },
    "id": "9VS1GdYTpAmz",
    "outputId": "4791cba4-a171-4fb8-c339-0d7bf7643d5b"
   },
   "outputs": [
    {
     "name": "stdout",
     "output_type": "stream",
     "text": [
      "       cp_time cp_dose      g-0     g-7  ...    c-96    c-97    c-98    c-99\n",
      "0            0       0      0.0 -0.0326  ... -0.3981  0.2139  0.3801  0.4176\n",
      "1            1       0      1.0  0.3372  ...  0.1522  0.1241  0.6077  0.7371\n",
      "2            2       0      2.0  0.2155  ... -0.6417 -0.2187 -1.4080  0.6931\n",
      "3            2       0      3.0  0.1792  ... -1.6210 -0.8784 -0.3876 -0.8154\n",
      "4            1       1      4.0 -0.1498  ...  0.1094  0.2885 -0.3786  0.7125\n",
      "...        ...     ...      ...     ...  ...     ...     ...     ...     ...\n",
      "23809        0       1    527.0  0.3055  ...  0.0631  0.9171  0.5258  0.4680\n",
      "23810        0       1   1138.0 -0.5565  ... -0.2084 -0.1224 -0.2715  0.3689\n",
      "23811        2       1  14364.0  0.1745  ...  0.2256  0.7592  0.6656  0.3808\n",
      "23812        0       0  14365.0  0.0463  ...  0.1732  0.7015 -0.6290  0.0740\n",
      "23813        1       0  14366.0  0.9146  ... -3.5770 -0.4775 -2.1500 -4.2520\n",
      "\n",
      "[23814 rows x 395 columns]\n"
     ]
    }
   ],
   "source": [
    "def get_selected_features_df(X_df, f_i):\n",
    "  X_selected = X_df.copy()\n",
    "  i = 0\n",
    "  for col in X_df.iloc[:, 4:]:\n",
    "    if i not in f_i: \n",
    "      X_selected.pop(col)\n",
    "    i += 1\n",
    "  return X_selected\n",
    "\n",
    "fi = []\n",
    "train_data = []\n",
    "with open('/content/drive/My Drive/Colab Notebooks/features_indexes.data', 'rb') as f:\n",
    "  fi = pickle.load(f) \n",
    "\n",
    "# train_data = pd.read_csv('/content/drive/My Drive/Colab Notebooks/X_afterSteps_12.csv') \n",
    "train_data = pd.read_csv('/content/drive/My Drive/Colab Notebooks/train_features.csv') \n",
    "df_y = pd.read_csv(\"/content/drive/My Drive/Colab Notebooks/train_targets_scored.csv\")\n",
    "train_labels = np.array(df_y.iloc[:, 1:])\n",
    "\n",
    "train_data = get_selected_features_df(train_data, fi)\n",
    "\n",
    "x = train_data.iloc[:, 2:]\n",
    "\n",
    "def encode(df, col):\n",
    "  new_df = df.copy()\n",
    "  classes = list(pd.unique(new_df.iloc[:,col]))\n",
    "  for i in range(len(df.iloc[:,col])):\n",
    "    new_df.iloc[i, col] = classes.index(new_df.iloc[i, col])\n",
    "  return new_df\n",
    "\n",
    "x=encode(x,0)\n",
    "x=encode(x,1) \n",
    "x=encode(x,2)\n",
    "print(x)\n",
    "y = df_y.iloc[:, 1:]\n",
    "X = x\n",
    "\n",
    "# split data and convert to tensors\n",
    "X_train, X_test, y_train, y_test = train_test_split(X, y, test_size=0.33, random_state=42)\n",
    "X_train = np.array(X_train)\n",
    "y_train = np.array(y_train)\n",
    "X_test = np.array(X_test)\n",
    "y_test = np.array(y_test)\n",
    "\n",
    "temp = []\n",
    "for i in X_train:\n",
    "    temp.append(i) \n",
    "X_train_tensor = torch.Tensor(temp)\n",
    "\n",
    "temp = []\n",
    "for i in X_test:\n",
    "  temp.append(i)\n",
    "X_test_tensor = torch.Tensor(temp)\n",
    "y_train_tensor = torch.Tensor(y_train)\n",
    "y_test_tensor = torch.Tensor(y_test)"
   ]
  },
  {
   "cell_type": "code",
   "execution_count": null,
   "metadata": {
    "colab": {
     "base_uri": "https://localhost:8080/"
    },
    "id": "h5-fd2djoexY",
    "outputId": "4602b480-1c3d-4fd4-dfdc-b6fef0754833"
   },
   "outputs": [
    {
     "name": "stdout",
     "output_type": "stream",
     "text": [
      "Net(\n",
      "  (fc1): Linear(in_features=395, out_features=256, bias=True)\n",
      "  (fc2): Linear(in_features=256, out_features=1024, bias=True)\n",
      "  (fc3): Linear(in_features=1024, out_features=512, bias=True)\n",
      "  (fc4): Linear(in_features=512, out_features=206, bias=True)\n",
      ")\n"
     ]
    }
   ],
   "source": [
    "# Deep NN Model we defined for the sake of this example \n",
    "class Net(nn.Module):\n",
    "\n",
    "    def __init__(self):\n",
    "        super(Net, self).__init__()\n",
    "        self.fc1 = nn.Linear(X.shape[1], 256)  \n",
    "        self.fc2 = nn.Linear(256, 1024) \n",
    "        self.fc3 = nn.Linear(1024, 512) \n",
    "        self.fc4 = nn.Linear(512, 206) \n",
    "\n",
    "    def forward(self, x):\n",
    "        x = F.relu(self.fc1(x))\n",
    "        x = F.relu(nn.Dropout(p=0.1)(self.fc2(x)))\n",
    "        x = F.relu(nn.Dropout(p=0.1)(self.fc3(x)))\n",
    "        x = self.fc4(x)\n",
    "        return torch.sigmoid(x)\n",
    "\n",
    "net = Net()\n",
    "print(net)"
   ]
  },
  {
   "cell_type": "code",
   "execution_count": null,
   "metadata": {
    "id": "_trqq38KpnnN"
   },
   "outputs": [],
   "source": [
    "X_train = X_train_tensor\n",
    "y_train = y_train_tensor\n",
    "X_test = X_test_tensor\n",
    "y_test = y_test_tensor\n",
    "\n",
    "def compute_loss(task_model):\n",
    "  target = y_train_tensor \n",
    "  output = task_model(X_train_tensor) \n",
    "  return nn.BCELoss()(output, target)\n",
    "\n",
    "model = net\n",
    "maml = l2l.algorithms.MAML(model, lr=0.001)\n",
    "opt = torch.optim.SGD(maml.parameters(), lr=0.001)\n",
    "for iteration in range(100): \n",
    "    opt.zero_grad() \n",
    "    task_model = maml.clone()  \n",
    "    adaptation_loss = compute_loss(task_model)\n",
    "    task_model.adapt(adaptation_loss)  # computes updated gradient, update task_model\n",
    "    evaluation_loss = compute_loss(task_model)\n",
    "    evaluation_loss.backward()  # gradients w.r.t. maml.parameters()\n",
    "    opt.step()  "
   ]
  },
  {
   "cell_type": "code",
   "execution_count": null,
   "metadata": {
    "colab": {
     "base_uri": "https://localhost:8080/"
    },
    "id": "UuJLgPhbo0hn",
    "outputId": "e91124b9-79ec-467e-ff83-808202450655"
   },
   "outputs": [
    {
     "name": "stdout",
     "output_type": "stream",
     "text": [
      "Accuracy: tensor(53.7608)%\n",
      "f1-score: 0.014947048045235035\n"
     ]
    }
   ],
   "source": [
    "outputs = model(X_train_tensor)\n",
    "outputs[outputs >= 0.5] = 1 \n",
    "outputs[outputs < 0.5] = 0 \n",
    "accuracy = (outputs == y_train_tensor).sum() / (y_train_tensor.shape[0]*y_train_tensor.shape[1]) * 100\n",
    "print(\"Accuracy: \" + str(accuracy) + \"%\")  \n",
    "\n",
    "f1 = f1_score(y_train_tensor.detach().numpy(), outputs.detach().numpy(), average='weighted')\n",
    "print(\"f1-score: \" + str(f1)) "
   ]
  },
  {
   "cell_type": "markdown",
   "metadata": {
    "id": "-opZ0w1e3m23"
   },
   "source": [
    "As we can see, meta learning applied to our dataset did not actually show better results than usual neural network we tried earlier. The results are similar and both of them are not good results. Also note that with and without feature selection we could not obtain better results. We will do the hypothesis testing to experiment more on the differences between these models even though all of them had bad results as in accuracy and f1-score which is mainly what we care about. NOTE that one model we tried predicted all 0's and had accuracy 99% because of its false positives and f1-score of almost 0, it is still a bad model.\n",
    "I belive our problem is more complicated than just getting help from different techniques such as meta learning. It needs careful data analysis and preprocessing, which requires an expert in the field since some cells data cannot be messed with even if it's for the purpose of machine learning. \n",
    "Some techniques that might help is the one we applied in another section of this phase, which is close to oversampling "
   ]
  }
 ],
 "metadata": {
  "colab": {
   "collapsed_sections": [],
   "name": "RP Phase 3 - Meta Learning.ipynb",
   "provenance": []
  },
  "kernelspec": {
   "display_name": "Python 3",
   "language": "python",
   "name": "python3"
  },
  "language_info": {
   "codemirror_mode": {
    "name": "ipython",
    "version": 3
   },
   "file_extension": ".py",
   "mimetype": "text/x-python",
   "name": "python",
   "nbconvert_exporter": "python",
   "pygments_lexer": "ipython3",
   "version": "3.8.5"
  }
 },
 "nbformat": 4,
 "nbformat_minor": 1
}
